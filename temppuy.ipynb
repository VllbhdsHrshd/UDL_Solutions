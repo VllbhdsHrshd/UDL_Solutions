{
  "nbformat": 4,
  "nbformat_minor": 0,
  "metadata": {
    "colab": {
      "provenance": []
    },
    "kernelspec": {
      "name": "python3",
      "display_name": "Python 3"
    },
    "language_info": {
      "name": "python"
    }
  },
  "cells": [
    {
      "cell_type": "code",
      "execution_count": 2,
      "metadata": {
        "id": "vNhEtTD1oBnK"
      },
      "outputs": [],
      "source": [
        "import numpy as np\n",
        "import matplotlib.pyplot as plt\n"
      ]
    },
    {
      "cell_type": "code",
      "source": [
        "def ReLU(preactivation):\n",
        "  activation = preactivation.clip(0.0)\n",
        "  return activation\n",
        ""
      ],
      "metadata": {
        "id": "THAkQPvqoM-t"
      },
      "execution_count": 3,
      "outputs": []
    },
    {
      "cell_type": "code",
      "source": [
        "# Define a shallow neural network with, one input, one output, and three hidden units\n",
        "def shallow_1_1_3(x, activation_fn, phi_0,phi_1,phi_2,phi_3, theta_10, theta_11, theta_20, theta_21, theta_30, theta_31):\n",
        "  # Initial lines\n",
        "  pre_1 = theta_10 + theta_11 * x\n",
        "  pre_2 = theta_20 + theta_21 * x\n",
        "  pre_3 = theta_30 + theta_31 * x\n",
        "  # Activation functions\n",
        "  act_1 = activation_fn(pre_1)\n",
        "  act_2 = activation_fn(pre_2)\n",
        "  act_3 = activation_fn(pre_3)\n",
        "  # Weight activations\n",
        "  w_act_1 = phi_1 * act_1\n",
        "  w_act_2 = phi_2 * act_2\n",
        "  w_act_3 = phi_3 * act_3\n",
        "  # Combine weighted activation and add y offset\n",
        "  y = phi_0 + w_act_1 + w_act_2 + w_act_3\n",
        "  # Return everything we have calculated\n",
        "  return y, pre_1, pre_2, pre_3, act_1, act_2, act_3, w_act_1, w_act_2, w_act_3"
      ],
      "metadata": {
        "id": "eMxlodHuod8s"
      },
      "execution_count": 4,
      "outputs": []
    },
    {
      "cell_type": "code",
      "source": [
        "def plot_neural(x, y):\n",
        "  fig, ax = plt.subplots()\n",
        "  ax.plot(x.T,y.T)\n",
        "  ax.set_xlabel('Input'); ax.set_ylabel('Output')\n",
        "  ax.set_xlim([-1,1]);ax.set_ylim([-1,1])\n",
        "  ax.set_aspect(1.0)\n",
        "  plt.show()"
      ],
      "metadata": {
        "id": "uJYHaE5RoiHw"
      },
      "execution_count": 5,
      "outputs": []
    },
    {
      "cell_type": "code",
      "source": [
        "# define sizes\n",
        "D_i=4; D_1=5; D_2=2; D_3=4; D_o=1\n",
        "# We'll choose the inputs and parameters of this network randomly using np.random.normal\n",
        "# For example, we'll set the input using\n",
        "# n_data = 4;\n",
        "# x = np.random.normal(size=(D_i, n_data))\n",
        "# TODO initialize the parameters randomly with the correct sizes\n",
        "# Replace the lines below\n",
        "n_data = 1\n",
        "x = np.random.normal(size=(D_i, n_data))\n",
        "beta_0 = np.random.normal(size=(D_1,1))\n",
        "Omega_0 = np.random.normal(size=(D_1,D_i))\n",
        "beta_1 = np.random.normal(size=(D_2,1))\n",
        "Omega_1 = np.random.normal(size=(D_2,D_1))\n",
        "beta_2 = np.random.normal(size=(D_3,1))\n",
        "Omega_2 = np.random.normal(size=(D_3,D_2))\n",
        "beta_3 = np.random.normal(size=(D_o,1))\n",
        "Omega_3 = np.random.normal(size=(D_o,D_3))"
      ],
      "metadata": {
        "id": "CoM0q9Wholvf"
      },
      "execution_count": 8,
      "outputs": []
    },
    {
      "cell_type": "code",
      "source": [
        "fw = np.random.normal(size=(12,21))\n",
        "wf = np.random.normal(size=(21,12))\n",
        "print(fw.shape, fw.ndim)\n",
        "print(wf.shape, wf.ndim)"
      ],
      "metadata": {
        "colab": {
          "base_uri": "https://localhost:8080/"
        },
        "id": "zZVPZu_Kosbs",
        "outputId": "4783952f-f772-4d75-cc19-8851c3c81678"
      },
      "execution_count": 7,
      "outputs": [
        {
          "output_type": "stream",
          "name": "stdout",
          "text": [
            "(12, 21) 2\n",
            "(21, 12) 2\n"
          ]
        }
      ]
    },
    {
      "cell_type": "code",
      "source": [
        "print(x.shape, x.ndim)\n",
        "print(beta_0.shape, beta_0.ndim)\n",
        "print(Omega_0.shape, Omega_0.ndim)\n",
        "print(beta_1.shape, beta_1.ndim)\n",
        "print(Omega_1.shape, Omega_1.ndim)\n",
        "print(beta_2.shape, beta_2.ndim)\n",
        "print(Omega_2.shape, Omega_2.ndim)\n",
        "print(beta_3.shape, beta_3.ndim)\n",
        "print(Omega_3.shape, Omega_3.ndim)\n"
      ],
      "metadata": {
        "colab": {
          "base_uri": "https://localhost:8080/"
        },
        "id": "zy33QIr9pD8S",
        "outputId": "054e5513-1037-4b53-e43d-9f13fe622713"
      },
      "execution_count": 9,
      "outputs": [
        {
          "output_type": "stream",
          "name": "stdout",
          "text": [
            "(4, 1) 2\n",
            "(5, 1) 2\n",
            "(5, 4) 2\n",
            "(2, 1) 2\n",
            "(2, 5) 2\n",
            "(4, 1) 2\n",
            "(4, 2) 2\n",
            "(1, 1) 2\n",
            "(1, 4) 2\n"
          ]
        }
      ]
    },
    {
      "cell_type": "code",
      "source": [
        "temp = np.ones((1, n_data))\n",
        "temp.shape"
      ],
      "metadata": {
        "colab": {
          "base_uri": "https://localhost:8080/"
        },
        "id": "w7ZpzYb9qzUr",
        "outputId": "1d9c9d72-a1cc-40e7-811f-ae807ce1461e"
      },
      "execution_count": 10,
      "outputs": [
        {
          "output_type": "execute_result",
          "data": {
            "text/plain": [
              "(1, 1)"
            ]
          },
          "metadata": {},
          "execution_count": 10
        }
      ]
    },
    {
      "cell_type": "code",
      "source": [
        "h1 = ReLU(np.matmul(beta_0,np.ones((1,n_data))) + np.matmul(Omega_0,x));\n",
        "h2 = ReLU(np.matmul(beta_1,np.ones((1,n_data))) + np.matmul(Omega_1,h1));\n",
        "h3 = ReLU(np.matmul(beta_2,np.ones((1,n_data))) + np.matmul(Omega_2,h2));\n",
        "y = np.matmul(beta_3,np.ones((1,n_data))) + np.matmul(Omega_3,h3)"
      ],
      "metadata": {
        "id": "pCGsQD8Iqwbu"
      },
      "execution_count": 13,
      "outputs": []
    },
    {
      "cell_type": "code",
      "source": [
        "print(\"The shapes of the activation h1:: \", h1.shape[0], h1.shape[1])\n",
        "print(\"The shapes of the activation h2:: \", h2.shape[0], h2.shape[1])\n",
        "print(\"The shapes of the activation h3:: \", h3.shape[0], h3.shape[1])"
      ],
      "metadata": {
        "colab": {
          "base_uri": "https://localhost:8080/"
        },
        "id": "ZbxPOCKYre0s",
        "outputId": "aa4e8482-ec14-43b7-e545-c6dbea74c149"
      },
      "execution_count": 16,
      "outputs": [
        {
          "output_type": "stream",
          "name": "stdout",
          "text": [
            "The shapes of the activation h1::  5 1\n",
            "The shapes of the activation h2::  2 1\n",
            "The shapes of the activation h3::  4 1\n"
          ]
        }
      ]
    },
    {
      "cell_type": "code",
      "source": [
        "print(\"The activation is :: \", h1)\n",
        "print(\"#########%!%@!#%!\")\n",
        "print(\"The activation is :: \", h2)\n",
        "print(\"#########%!%@!#%!\")\n",
        "print(\"The activation is :: \", h3)\n",
        "print(\"#########%!%@!#%!\")"
      ],
      "metadata": {
        "colab": {
          "base_uri": "https://localhost:8080/"
        },
        "id": "8c30Mne9sC_p",
        "outputId": "12f92fc8-d439-494c-caca-9345fa7331b9"
      },
      "execution_count": 18,
      "outputs": [
        {
          "output_type": "stream",
          "name": "stdout",
          "text": [
            "The activation is ::  [[2.35706297]\n",
            " [0.        ]\n",
            " [0.69096559]\n",
            " [2.31852414]\n",
            " [0.46298117]]\n",
            "#########%!%@!#%!\n",
            "The activation is ::  [[5.61185802]\n",
            " [0.        ]]\n",
            "#########%!%@!#%!\n",
            "The activation is ::  [[4.27702929]\n",
            " [1.02811577]\n",
            " [0.        ]\n",
            " [0.        ]]\n",
            "#########%!%@!#%!\n"
          ]
        }
      ]
    },
    {
      "cell_type": "code",
      "source": [
        "print(h1[0], h1[1])"
      ],
      "metadata": {
        "colab": {
          "base_uri": "https://localhost:8080/"
        },
        "id": "MpXY6TZIsZF3",
        "outputId": "6348a91c-6a4f-44d6-f658-b98ed2c89d6e"
      },
      "execution_count": 19,
      "outputs": [
        {
          "output_type": "stream",
          "name": "stdout",
          "text": [
            "[2.35706297] [0.]\n"
          ]
        }
      ]
    },
    {
      "cell_type": "code",
      "source": [
        "if h1.shape[0] is not D_1 or h1.shape[1] is not n_data:\n",
        "  print(\"h1 is wrong shape\")\n",
        "if h2.shape[0] is not D_2 or h1.shape[1] is not n_data:\n",
        "  print(\"h2 is wrong shape\")\n",
        "if h3.shape[0] is not D_3 or h1.shape[1] is not n_data:\n",
        "  print(\"h3 is wrong shape\")\n",
        "if y.shape[0] is not D_o or h1.shape[1] is not n_data:\n",
        "  print(\"Output is wrong shape\")\n"
      ],
      "metadata": {
        "id": "zLVs3Nsoq-mg"
      },
      "execution_count": 14,
      "outputs": []
    },
    {
      "cell_type": "code",
      "source": [
        "# Print the inputs and outputs\n",
        "print(\"Input data points\")\n",
        "print(x)\n",
        "print (\"Output data points\")\n",
        "print(y)"
      ],
      "metadata": {
        "colab": {
          "base_uri": "https://localhost:8080/"
        },
        "id": "Ol3fKkHZrLi5",
        "outputId": "84940cf2-db72-4c9d-d3e7-4506e40f13b0"
      },
      "execution_count": 15,
      "outputs": [
        {
          "output_type": "stream",
          "name": "stdout",
          "text": [
            "Input data points\n",
            "[[ 0.3656741 ]\n",
            " [ 0.18067493]\n",
            " [ 0.57937857]\n",
            " [-0.56204462]]\n",
            "Output data points\n",
            "[[0.63481442]]\n"
          ]
        }
      ]
    },
    {
      "cell_type": "code",
      "source": [],
      "metadata": {
        "id": "zrjW-TMRrQcL"
      },
      "execution_count": null,
      "outputs": []
    }
  ]
}